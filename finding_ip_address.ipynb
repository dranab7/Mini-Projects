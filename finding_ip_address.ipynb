{
  "nbformat": 4,
  "nbformat_minor": 0,
  "metadata": {
    "colab": {
      "provenance": []
    },
    "kernelspec": {
      "name": "python3",
      "display_name": "Python 3"
    },
    "language_info": {
      "name": "python"
    }
  },
  "cells": [
    {
      "cell_type": "code",
      "execution_count": null,
      "metadata": {
        "colab": {
          "base_uri": "https://localhost:8080/"
        },
        "id": "MDd7xEVg_clp",
        "outputId": "0d94fe83-f9c4-4608-f79c-29ffdd0c66e3"
      },
      "outputs": [
        {
          "output_type": "stream",
          "name": "stdout",
          "text": [
            "Your Hostname is: 08c7b9f5b8e8\n",
            "Your Ip Address is: 172.28.0.12\n",
            "The IP Address of github.com is: 140.82.112.4\n"
          ]
        }
      ],
      "source": [
        "import socket as s\n",
        "\n",
        "my_hostname = s.gethostname()\n",
        "\n",
        "print(\"Your Hostname is: \" + my_hostname)\n",
        "\n",
        "\n",
        "my_ip = s.gethostbyname(my_hostname)\n",
        "\n",
        "print(\"Your Ip Address is: \" + my_ip)\n",
        "\n",
        "\n",
        "host = \"github.com\"\n",
        "\n",
        "ip = s.gethostbyname(host)\n",
        "\n",
        "\n",
        "print(\"The IP Address of \" + host + \" is: \"  + ip)"
      ]
    }
  ]
}