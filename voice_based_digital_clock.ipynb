{
  "nbformat": 4,
  "nbformat_minor": 0,
  "metadata": {
    "colab": {
      "provenance": []
    },
    "kernelspec": {
      "name": "python3",
      "display_name": "Python 3"
    },
    "language_info": {
      "name": "python"
    }
  },
  "cells": [
    {
      "cell_type": "code",
      "execution_count": 1,
      "metadata": {
        "colab": {
          "base_uri": "https://localhost:8080/"
        },
        "id": "mlOjLHJ4F0_U",
        "outputId": "93f9fceb-2e51-40b9-bd1f-7113ba4511a5"
      },
      "outputs": [
        {
          "output_type": "stream",
          "name": "stdout",
          "text": [
            "Collecting gTTS\n",
            "  Downloading gTTS-2.5.1-py3-none-any.whl (29 kB)\n",
            "Requirement already satisfied: requests<3,>=2.27 in /usr/local/lib/python3.10/dist-packages (from gTTS) (2.31.0)\n",
            "Requirement already satisfied: click<8.2,>=7.1 in /usr/local/lib/python3.10/dist-packages (from gTTS) (8.1.7)\n",
            "Requirement already satisfied: charset-normalizer<4,>=2 in /usr/local/lib/python3.10/dist-packages (from requests<3,>=2.27->gTTS) (3.3.2)\n",
            "Requirement already satisfied: idna<4,>=2.5 in /usr/local/lib/python3.10/dist-packages (from requests<3,>=2.27->gTTS) (3.6)\n",
            "Requirement already satisfied: urllib3<3,>=1.21.1 in /usr/local/lib/python3.10/dist-packages (from requests<3,>=2.27->gTTS) (2.0.7)\n",
            "Requirement already satisfied: certifi>=2017.4.17 in /usr/local/lib/python3.10/dist-packages (from requests<3,>=2.27->gTTS) (2024.2.2)\n",
            "Installing collected packages: gTTS\n",
            "Successfully installed gTTS-2.5.1\n"
          ]
        }
      ],
      "source": [
        "pip install gTTS"
      ]
    },
    {
      "cell_type": "code",
      "source": [
        "from gtts import gTTS\n",
        "from IPython.display import Audio, display\n",
        "import datetime\n",
        "import time\n",
        "from IPython.display import clear_output\n",
        "\n",
        "def speak(text):\n",
        "    tts = gTTS(text=text, lang='en')\n",
        "    tts.save(\"temp.mp3\")\n",
        "    display(Audio(\"temp.mp3\", autoplay=True))\n",
        "\n",
        "def digital_clock():\n",
        "    try:\n",
        "        while True:\n",
        "            now = datetime.datetime.now()\n",
        "            clear_output(wait=True)  # Clear the output before printing the new time\n",
        "            current_time = now.strftime(\"%I:%M %p\")\n",
        "            print(\"Current Time:\", current_time)\n",
        "            speak(\"The current time is \" + current_time)\n",
        "            time.sleep(60)  # Update every minute\n",
        "    except KeyboardInterrupt:\n",
        "        print(\"\\nDigital clock stopped.\")\n",
        "        pass\n",
        "\n",
        "digital_clock()\n"
      ],
      "metadata": {
        "colab": {
          "base_uri": "https://localhost:8080/",
          "height": 128
        },
        "id": "YXbEU7dNGFul",
        "outputId": "07a37340-82cf-4a13-ecfa-73e47e10fed1"
      },
      "execution_count": 2,
      "outputs": [
        {
          "output_type": "stream",
          "name": "stdout",
          "text": [
            "Current Time: 06:22 PM\n"
          ]
        },
        {
          "output_type": "display_data",
          "data": {
            "text/plain": [
              "<IPython.lib.display.Audio object>"
            ],
            "text/html": [
              "\n",
              "                <audio  controls=\"controls\" autoplay=\"autoplay\">\n",
              "                    <source src=\"data:audio/mpeg;base64,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\" type=\"audio/mpeg\" />\n",
              "                    Your browser does not support the audio element.\n",
              "                </audio>\n",
              "              "
            ]
          },
          "metadata": {}
        },
        {
          "output_type": "stream",
          "name": "stdout",
          "text": [
            "\n",
            "Digital clock stopped.\n"
          ]
        }
      ]
    }
  ]
}