{
  "nbformat": 4,
  "nbformat_minor": 0,
  "metadata": {
    "colab": {
      "provenance": []
    },
    "kernelspec": {
      "name": "python3",
      "display_name": "Python 3"
    },
    "language_info": {
      "name": "python"
    }
  },
  "cells": [
    {
      "cell_type": "code",
      "execution_count": null,
      "metadata": {
        "colab": {
          "base_uri": "https://localhost:8080/"
        },
        "id": "-sj667PeA4hn",
        "outputId": "6e679c5e-1949-41e5-f4a7-d31fa9132d56"
      },
      "outputs": [
        {
          "output_type": "stream",
          "name": "stdout",
          "text": [
            "2024-04-09 18:05:22"
          ]
        }
      ],
      "source": [
        "import datetime\n",
        "import time\n",
        "from IPython.display import clear_output\n",
        "\n",
        "def digital_clock():\n",
        "    try:\n",
        "        while True:\n",
        "            now = datetime.datetime.now()\n",
        "            clear_output(wait=True)  # Clear the output before printing the new time\n",
        "            print(now.strftime(\"%Y-%m-%d %H:%M:%S\"), end=\"\", flush=True)\n",
        "            time.sleep(1)  # Update every second\n",
        "    except KeyboardInterrupt:\n",
        "        print(\"\\nDigital clock stopped.\")\n",
        "        pass\n",
        "\n",
        "digital_clock()\n"
      ]
    }
  ]
}