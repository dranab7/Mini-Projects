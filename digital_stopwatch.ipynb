{
  "nbformat": 4,
  "nbformat_minor": 0,
  "metadata": {
    "colab": {
      "provenance": []
    },
    "kernelspec": {
      "name": "python3",
      "display_name": "Python 3"
    },
    "language_info": {
      "name": "python"
    }
  },
  "cells": [
    {
      "cell_type": "code",
      "execution_count": 2,
      "metadata": {
        "colab": {
          "base_uri": "https://localhost:8080/"
        },
        "id": "GPx0R1bTAWFk",
        "outputId": "bc8c2bd7-498a-4683-e323-89611ab49b4e"
      },
      "outputs": [
        {
          "output_type": "stream",
          "name": "stdout",
          "text": [
            "Press Enter to start the stopwatch.\n",
            "Stopwatch started. Press Ctrl+C to stop.\n",
            "00:00:03\n",
            "Stopwatch stopped.\n"
          ]
        }
      ],
      "source": [
        "import time\n",
        "\n",
        "def stopwatch():\n",
        "    input(\"Press Enter to start the stopwatch.\")\n",
        "    print(\"Stopwatch started. Press Ctrl+C to stop.\")\n",
        "    start_time = time.time()\n",
        "\n",
        "    try:\n",
        "        while True:\n",
        "            elapsed_time = time.time() - start_time\n",
        "            hours, rem = divmod(elapsed_time, 3600)\n",
        "            minutes, seconds = divmod(rem, 60)\n",
        "            hours = int(hours)\n",
        "            minutes = int(minutes)\n",
        "            seconds = int(seconds)\n",
        "            print(f\"\\r{hours:02d}:{minutes:02d}:{seconds:02d}\", end=\"\")\n",
        "            time.sleep(1)\n",
        "    except KeyboardInterrupt:\n",
        "        print(\"\\nStopwatch stopped.\")\n",
        "        pass\n",
        "\n",
        "stopwatch()\n"
      ]
    }
  ]
}